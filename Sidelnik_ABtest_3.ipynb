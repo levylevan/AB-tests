{
 "cells": [
  {
   "cell_type": "code",
   "execution_count": 2,
   "id": "940bdc6c-4a94-4c3c-b949-a25da9cbe594",
   "metadata": {},
   "outputs": [],
   "source": [
    "import pandas as pd\n",
    "import numpy as np\n",
    "import pandahouse as ph\n",
    "from scipy import stats\n",
    "import seaborn as sns\n",
    "\n",
    "sns.set(rc={'figure.figsize':(11.7,8.27)})"
   ]
  },
  {
   "cell_type": "code",
   "execution_count": 3,
   "id": "3932141e-fad6-4ce1-8df2-6be24b2b2cf6",
   "metadata": {},
   "outputs": [],
   "source": [
    "connection = {\n",
    "    'host': 'https://clickhouse.lab.karpov.courses',\n",
    "    'password': 'dpo_python_2020',\n",
    "    'user': 'student',\n",
    "    'database': 'simulator_20221020'\n",
    "}"
   ]
  },
  {
   "cell_type": "code",
   "execution_count": 4,
   "id": "b27bd069-eedf-4b98-a787-fa6447931497",
   "metadata": {},
   "outputs": [],
   "source": [
    "query = '''\n",
    "select exp_group, \n",
    "    user_id,\n",
    "    sum(action = 'like') as likes,\n",
    "    sum(action = 'view') as views,\n",
    "    likes/views as ctr\n",
    "from simulator_20221020.feed_actions\n",
    "where toDate(time) between '2022-10-03' and '2022-10-09'\n",
    "    and exp_group in (0, 1, 2, 3)\n",
    "group by exp_group, user_id    \n",
    "'''\n",
    "df = ph.read_clickhouse(query, connection=connection)"
   ]
  },
  {
   "cell_type": "code",
   "execution_count": 5,
   "id": "abae5787-453a-46b9-a1eb-de87bc04761f",
   "metadata": {},
   "outputs": [
    {
     "data": {
      "text/html": [
       "<div>\n",
       "<style scoped>\n",
       "    .dataframe tbody tr th:only-of-type {\n",
       "        vertical-align: middle;\n",
       "    }\n",
       "\n",
       "    .dataframe tbody tr th {\n",
       "        vertical-align: top;\n",
       "    }\n",
       "\n",
       "    .dataframe thead th {\n",
       "        text-align: right;\n",
       "    }\n",
       "</style>\n",
       "<table border=\"1\" class=\"dataframe\">\n",
       "  <thead>\n",
       "    <tr style=\"text-align: right;\">\n",
       "      <th></th>\n",
       "      <th>exp_group</th>\n",
       "      <th>user_id</th>\n",
       "      <th>likes</th>\n",
       "      <th>views</th>\n",
       "      <th>ctr</th>\n",
       "    </tr>\n",
       "  </thead>\n",
       "  <tbody>\n",
       "    <tr>\n",
       "      <th>0</th>\n",
       "      <td>3</td>\n",
       "      <td>115383</td>\n",
       "      <td>9</td>\n",
       "      <td>30</td>\n",
       "      <td>0.300000</td>\n",
       "    </tr>\n",
       "    <tr>\n",
       "      <th>1</th>\n",
       "      <td>1</td>\n",
       "      <td>18392</td>\n",
       "      <td>7</td>\n",
       "      <td>32</td>\n",
       "      <td>0.218750</td>\n",
       "    </tr>\n",
       "    <tr>\n",
       "      <th>2</th>\n",
       "      <td>3</td>\n",
       "      <td>123580</td>\n",
       "      <td>13</td>\n",
       "      <td>48</td>\n",
       "      <td>0.270833</td>\n",
       "    </tr>\n",
       "    <tr>\n",
       "      <th>3</th>\n",
       "      <td>2</td>\n",
       "      <td>131473</td>\n",
       "      <td>14</td>\n",
       "      <td>134</td>\n",
       "      <td>0.104478</td>\n",
       "    </tr>\n",
       "    <tr>\n",
       "      <th>4</th>\n",
       "      <td>2</td>\n",
       "      <td>32420</td>\n",
       "      <td>26</td>\n",
       "      <td>128</td>\n",
       "      <td>0.203125</td>\n",
       "    </tr>\n",
       "  </tbody>\n",
       "</table>\n",
       "</div>"
      ],
      "text/plain": [
       "   exp_group  user_id  likes  views       ctr\n",
       "0          3   115383      9     30  0.300000\n",
       "1          1    18392      7     32  0.218750\n",
       "2          3   123580     13     48  0.270833\n",
       "3          2   131473     14    134  0.104478\n",
       "4          2    32420     26    128  0.203125"
      ]
     },
     "execution_count": 5,
     "metadata": {},
     "output_type": "execute_result"
    }
   ],
   "source": [
    "df.head()"
   ]
  },
  {
   "cell_type": "code",
   "execution_count": 6,
   "id": "fa08eff1-1c55-4cad-a6a0-8a62c3b27c5b",
   "metadata": {},
   "outputs": [],
   "source": [
    "#Считаем общий CTR в контрольной группе  𝐶𝑇𝑅𝑐𝑜𝑛𝑡𝑟𝑜𝑙=𝑠𝑢𝑚(𝑙𝑖𝑘𝑒𝑠)/𝑠𝑢𝑚(𝑣𝑖𝑒𝑤𝑠)\n",
    "CTRc_0 = df[df.exp_group == 0].likes.sum() / df[df.exp_group == 0].views.sum()\n",
    "CTRc_1 = df[df.exp_group == 1].likes.sum() / df[df.exp_group == 1].views.sum()"
   ]
  },
  {
   "cell_type": "code",
   "execution_count": 7,
   "id": "b95d15b8-71a7-447d-9044-568adad94a13",
   "metadata": {},
   "outputs": [
    {
     "data": {
      "text/plain": [
       "(0.20823612262916305, 0.20802680490126244)"
      ]
     },
     "execution_count": 7,
     "metadata": {},
     "output_type": "execute_result"
    }
   ],
   "source": [
    "CTRc_0, CTRc_1"
   ]
  },
  {
   "cell_type": "code",
   "execution_count": 8,
   "id": "1b6b601a-d800-442c-b128-001d1bfdb114",
   "metadata": {},
   "outputs": [],
   "source": [
    "#Посчитаем в обеих группах поюзерную метрику  𝑙𝑖𝑛𝑒𝑎𝑟𝑖𝑧𝑒𝑑_𝑙𝑖𝑘𝑒𝑠=𝑙𝑖𝑘𝑒𝑠−𝐶𝑇𝑅𝑐𝑜𝑛𝑡𝑟𝑜𝑙∗𝑣𝑖𝑒𝑤𝑠\n",
    "def lin_likes(x):\n",
    "    if x.exp_group in [0,3]:\n",
    "        ll = x['likes'] - CTRc_0 * x['views']\n",
    "    if x.exp_group in [1,2]:\n",
    "        ll = x['likes'] - CTRc_1 * x['views']\n",
    "    return ll"
   ]
  },
  {
   "cell_type": "code",
   "execution_count": 9,
   "id": "a0230b46-95ff-4ce6-8acd-51938f93c57c",
   "metadata": {},
   "outputs": [
    {
     "data": {
      "text/html": [
       "<div>\n",
       "<style scoped>\n",
       "    .dataframe tbody tr th:only-of-type {\n",
       "        vertical-align: middle;\n",
       "    }\n",
       "\n",
       "    .dataframe tbody tr th {\n",
       "        vertical-align: top;\n",
       "    }\n",
       "\n",
       "    .dataframe thead th {\n",
       "        text-align: right;\n",
       "    }\n",
       "</style>\n",
       "<table border=\"1\" class=\"dataframe\">\n",
       "  <thead>\n",
       "    <tr style=\"text-align: right;\">\n",
       "      <th></th>\n",
       "      <th>exp_group</th>\n",
       "      <th>user_id</th>\n",
       "      <th>likes</th>\n",
       "      <th>views</th>\n",
       "      <th>ctr</th>\n",
       "      <th>linearized_likes</th>\n",
       "    </tr>\n",
       "  </thead>\n",
       "  <tbody>\n",
       "    <tr>\n",
       "      <th>0</th>\n",
       "      <td>3</td>\n",
       "      <td>115383</td>\n",
       "      <td>9</td>\n",
       "      <td>30</td>\n",
       "      <td>0.300000</td>\n",
       "      <td>2.752916</td>\n",
       "    </tr>\n",
       "    <tr>\n",
       "      <th>1</th>\n",
       "      <td>1</td>\n",
       "      <td>18392</td>\n",
       "      <td>7</td>\n",
       "      <td>32</td>\n",
       "      <td>0.218750</td>\n",
       "      <td>0.343142</td>\n",
       "    </tr>\n",
       "    <tr>\n",
       "      <th>2</th>\n",
       "      <td>3</td>\n",
       "      <td>123580</td>\n",
       "      <td>13</td>\n",
       "      <td>48</td>\n",
       "      <td>0.270833</td>\n",
       "      <td>3.004666</td>\n",
       "    </tr>\n",
       "    <tr>\n",
       "      <th>3</th>\n",
       "      <td>2</td>\n",
       "      <td>131473</td>\n",
       "      <td>14</td>\n",
       "      <td>134</td>\n",
       "      <td>0.104478</td>\n",
       "      <td>-13.875592</td>\n",
       "    </tr>\n",
       "    <tr>\n",
       "      <th>4</th>\n",
       "      <td>2</td>\n",
       "      <td>32420</td>\n",
       "      <td>26</td>\n",
       "      <td>128</td>\n",
       "      <td>0.203125</td>\n",
       "      <td>-0.627431</td>\n",
       "    </tr>\n",
       "  </tbody>\n",
       "</table>\n",
       "</div>"
      ],
      "text/plain": [
       "   exp_group  user_id  likes  views       ctr  linearized_likes\n",
       "0          3   115383      9     30  0.300000          2.752916\n",
       "1          1    18392      7     32  0.218750          0.343142\n",
       "2          3   123580     13     48  0.270833          3.004666\n",
       "3          2   131473     14    134  0.104478        -13.875592\n",
       "4          2    32420     26    128  0.203125         -0.627431"
      ]
     },
     "execution_count": 9,
     "metadata": {},
     "output_type": "execute_result"
    }
   ],
   "source": [
    "df['linearized_likes'] = df.apply(lambda x: lin_likes(x), axis=1)\n",
    "df.head()"
   ]
  },
  {
   "cell_type": "code",
   "execution_count": 10,
   "id": "ad542e01-b087-480a-8bda-f99dbea7dbdc",
   "metadata": {},
   "outputs": [],
   "source": [
    "set_0 = df.query('exp_group == 0')\n",
    "set_1 = df.query('exp_group == 1')\n",
    "set_2 = df.query('exp_group == 2')\n",
    "set_3 = df.query('exp_group == 3')"
   ]
  },
  {
   "cell_type": "code",
   "execution_count": 11,
   "id": "90b73857-b2a0-477b-86b1-5308b5d8f8fa",
   "metadata": {},
   "outputs": [
    {
     "data": {
      "text/plain": [
       "exp_group\n",
       "0    0.215950\n",
       "1    0.215605\n",
       "2    0.214419\n",
       "3    0.232624\n",
       "Name: ctr, dtype: float64"
      ]
     },
     "execution_count": 11,
     "metadata": {},
     "output_type": "execute_result"
    }
   ],
   "source": [
    "df.groupby('exp_group').ctr.mean()"
   ]
  },
  {
   "cell_type": "markdown",
   "id": "5c6fe527-47f0-4e1e-bf9f-1180418a493e",
   "metadata": {},
   "source": [
    "\"Поюзерные\" CTR практически не отличаются."
   ]
  },
  {
   "cell_type": "code",
   "execution_count": 12,
   "id": "5d418a1a-673a-4253-a041-d6722a579b3e",
   "metadata": {},
   "outputs": [],
   "source": [
    "result_ctr_1 = stats.ttest_ind(set_0['ctr'],\n",
    "                set_3['ctr'],\n",
    "                equal_var=False).pvalue\n",
    "result_lin_likes_1 = stats.ttest_ind(set_0['linearized_likes'],\n",
    "                set_3['linearized_likes'],\n",
    "                equal_var=False).pvalue"
   ]
  },
  {
   "cell_type": "code",
   "execution_count": 13,
   "id": "8528f137-b310-4aaf-80c4-8604e55ecfa9",
   "metadata": {},
   "outputs": [
    {
     "data": {
      "text/plain": [
       "(1.055849414662529e-43, 5.4914249479690016e-52)"
      ]
     },
     "execution_count": 13,
     "metadata": {},
     "output_type": "execute_result"
    }
   ],
   "source": [
    "#Показатели теста между группами 0 и 3\n",
    "result_ctr_1, result_lin_likes_1"
   ]
  },
  {
   "cell_type": "code",
   "execution_count": 14,
   "id": "67ddad80-3e14-4752-9c08-569bc962d393",
   "metadata": {},
   "outputs": [],
   "source": [
    "result_ctr_2 = stats.ttest_ind(set_1['ctr'],\n",
    "                set_2['ctr'],\n",
    "                equal_var=False).pvalue\n",
    "result_lin_likes_2 = stats.ttest_ind(set_1['linearized_likes'],\n",
    "                set_2['linearized_likes'],\n",
    "                equal_var=False).pvalue"
   ]
  },
  {
   "cell_type": "code",
   "execution_count": 15,
   "id": "e198f907-c63b-4b7c-a8b4-8038a8ad8dfb",
   "metadata": {},
   "outputs": [
    {
     "data": {
      "text/plain": [
       "(0.4780623130874935, 9.439432187037712e-10)"
      ]
     },
     "execution_count": 15,
     "metadata": {},
     "output_type": "execute_result"
    }
   ],
   "source": [
    "#Показатели теста между группами 1 и 2\n",
    "result_ctr_2, result_lin_likes_2"
   ]
  },
  {
   "cell_type": "markdown",
   "id": "cea44831-d173-4d6f-a7f3-8dc5621dc190",
   "metadata": {},
   "source": [
    "Вывод: В обоих тестах видно отдичие, p-value по метрике линеаризованных лайков стало меньше."
   ]
  }
 ],
 "metadata": {
  "kernelspec": {
   "display_name": "Python 3 (ipykernel)",
   "language": "python",
   "name": "python3"
  },
  "language_info": {
   "codemirror_mode": {
    "name": "ipython",
    "version": 3
   },
   "file_extension": ".py",
   "mimetype": "text/x-python",
   "name": "python",
   "nbconvert_exporter": "python",
   "pygments_lexer": "ipython3",
   "version": "3.8.10"
  }
 },
 "nbformat": 4,
 "nbformat_minor": 5
}
